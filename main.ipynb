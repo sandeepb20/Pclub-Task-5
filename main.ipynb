{
 "metadata": {
  "language_info": {
   "codemirror_mode": {
    "name": "ipython",
    "version": 3
   },
   "file_extension": ".py",
   "mimetype": "text/x-python",
   "name": "python",
   "nbconvert_exporter": "python",
   "pygments_lexer": "ipython3",
   "version": "3.9.2"
  },
  "orig_nbformat": 4,
  "kernelspec": {
   "name": "python3",
   "display_name": "Python 3.9.2 64-bit"
  },
  "interpreter": {
   "hash": "94177165c184f5bb1e1d0e8b23965c088da0bf354be75cbadf3a9f76ef2ba52e"
  }
 },
 "nbformat": 4,
 "nbformat_minor": 2,
 "cells": [
  {
   "cell_type": "code",
   "execution_count": null,
   "metadata": {},
   "outputs": [],
   "source": [
    "from bs4 import BeautifulSoup\n",
    "import requests\n"
   ]
  },
  {
   "cell_type": "code",
   "execution_count": null,
   "metadata": {},
   "outputs": [],
   "source": [
    "from lxml import html\n",
    "import codecs\n",
    "import pandas as pd"
   ]
  },
  {
   "cell_type": "code",
   "execution_count": null,
   "metadata": {},
   "outputs": [],
   "source": [
    "page=requests.get('https://hello.iitk.ac.in/esc201a21/#/home')\n",
    "#soup=BeautifulSoup(page,'lxml')\n",
    "#print(soup)\n",
    "#page.content\n",
    "soup = BeautifulSoup(page.content, 'html.parser')\n",
    "#print(soup.prettify())\n",
    "print(soup)"
   ]
  },
  {
   "cell_type": "code",
   "execution_count": null,
   "metadata": {},
   "outputs": [],
   "source": [
    "list(soup.children)\n",
    "soup.find_all('div')"
   ]
  },
  {
   "cell_type": "code",
   "execution_count": null,
   "metadata": {},
   "outputs": [],
   "source": [
    "import mechanize\r\n",
    "from bs4 import BeautifulSoup\r\n",
    "import urllib3\r\n",
    "import cookielib ## http.cookiejar in python3\r\n",
    "try:\r\n",
    "    from http.cookiejar import CookieJar\r\n",
    "except ImportError:\r\n",
    "    from cookielib import CookieJar\n"
   ]
  },
  {
   "cell_type": "code",
   "execution_count": null,
   "metadata": {},
   "outputs": [],
   "source": [
    "cj = cookielib.CookieJar()\n",
    "br = mechanize.Browser()\n",
    "br.set_cookiejar(cj)\n",
    "br.open(\"https://id.arduino.cc/auth/login/\")\n",
    "\n",
    "br.select_form(nr=0)\n",
    "br.form['username'] = 'username'\n",
    "br.form['password'] = 'password.'\n",
    "br.submit()\n",
    "\n",
    "print br.response().read()"
   ]
  },
  {
   "cell_type": "code",
   "execution_count": null,
   "metadata": {},
   "outputs": [],
   "source": [
    "import requests\n",
    "from lxml import html"
   ]
  },
  {
   "cell_type": "code",
   "execution_count": null,
   "metadata": {},
   "outputs": [],
   "source": [
    "USERNAME = \"<USERNAME>\"\n",
    "PASSWORD = \"<PASSWORD>\"\n",
    "USERNAME = \"sandeepb20\"\n",
    "PASSWORD = \"Sandeep@123\""
   ]
  },
  {
   "cell_type": "code",
   "execution_count": null,
   "metadata": {},
   "outputs": [],
   "source": [
    "LOGIN_URL = \"https://hello.iitk.ac.in/index.php/user/login\"\n",
    "URL = \"https://hello.iitk.ac.in/esc201a21/#/home\"\n"
   ]
  },
  {
   "cell_type": "code",
   "execution_count": null,
   "metadata": {},
   "outputs": [],
   "source": [
    "    session_requests = requests.session()\n",
    "\n",
    "    # Get login csrf token\n",
    "    result = session_requests.get(LOGIN_URL)\n",
    "    tree = html.fromstring(result.text)\n",
    "    authenticity_token = list(set(tree.xpath(\"//input[@name='form_build_id']/@value\")))[0]"
   ]
  },
  {
   "cell_type": "code",
   "execution_count": null,
   "metadata": {},
   "outputs": [],
   "source": [
    "payload = {\n",
    "    \"name\" : USERNAME,\n",
    "    \"pass\" : PASSWORD,\n",
    "    \"form_build_id\" : authenticity_token\n",
    "}"
   ]
  },
  {
   "cell_type": "code",
   "execution_count": null,
   "metadata": {},
   "outputs": [],
   "source": [
    "# Perform login\n",
    "result = session_requests.post(LOGIN_URL, data = payload, headers = dict(referer = LOGIN_URL))"
   ]
  },
  {
   "cell_type": "code",
   "execution_count": null,
   "metadata": {},
   "outputs": [],
   "source": [
    "\n",
    "    result = session_requests.get(URL, headers = dict(referer = URL))\n",
    "    tree = html.fromstring(result.content)\n",
    "    bucket_names = tree.xpath(\"//div[@class='repo-list--repo']/a/text()\")"
   ]
  },
  {
   "cell_type": "code",
   "execution_count": null,
   "metadata": {},
   "outputs": [],
   "source": [
    "print(bucket_names)\n"
   ]
  },
  {
   "cell_type": "code",
   "execution_count": null,
   "metadata": {},
   "outputs": [],
   "source": [
    "import requests\n",
    "from lxml import html\n",
    "\n",
    "USERNAME = \"<USERNAME>\"\n",
    "PASSWORD = \"<PASSWORD>\"\n",
    "\n",
    "LOGIN_URL = \"https://bitbucket.org/account/signin/?next=/\"\n",
    "URL = \"https://bitbucket.org/dashboard/repositories\"\n",
    "\n",
    "def main():\n",
    "    session_requests = requests.session()\n",
    "\n",
    "    # Get login csrf token\n",
    "    result = session_requests.get(LOGIN_URL)\n",
    "    tree = html.fromstring(result.text)\n",
    "    authenticity_token = list(set(tree.xpath(\"//input[@name='csrfmiddlewaretoken']/@value\")))[0]\n",
    "\n",
    "    # Create payload\n",
    "    payload = {\n",
    "        \"username\": USERNAME, \n",
    "        \"password\": PASSWORD, \n",
    "        \"csrfmiddlewaretoken\": authenticity_token\n",
    "    }\n",
    "\n",
    "    # Perform login\n",
    "    result = session_requests.post(LOGIN_URL, data = payload, headers = dict(referer = LOGIN_URL))\n",
    "\n",
    "    # Scrape url\n",
    "    result = session_requests.get(URL, headers = dict(referer = URL))\n",
    "    tree = html.fromstring(result.content)\n",
    "    bucket_names = tree.xpath(\"//div[@class='repo-list--repo']/a/text()\")\n",
    "\n",
    "    print(bucket_names)\n",
    "\n",
    "if __name__ == '__main__':\n",
    "    main()"
   ]
  },
  {
   "cell_type": "code",
   "execution_count": null,
   "metadata": {},
   "outputs": [],
   "source": [
    "#USERNAME = \"<USERNAME>\"\n",
    "#PASSWORD = \"<PASSWORD>\"\n",
    "USERNAME = \"sandeepb20\"\n",
    "PASSWORD = \"Sandeep@123\"\n",
    "\n",
    "LOGIN_URL = \"https://hello.iitk.ac.in/index.php/user/login\"\n",
    "URL = \"https://hello.iitk.ac.in/esc201a21/#/home\"\n",
    "\n",
    "session_requests = requests.session()\n",
    "\n",
    "# Get login csrf token\n",
    "result = session_requests.get(LOGIN_URL)\n",
    "tree = html.fromstring(result.text)\n",
    "authenticity_token = list(set(tree.xpath(\"//input[@name='form_build_id']/@value\")))[0]\n",
    "\n",
    "payload = {\n",
    "    \"name\" : USERNAME,\n",
    "    \"pass\" : PASSWORD,\n",
    "    \"form_build_id\" : \"form-30qOtRphJ21HXBJP8aQvkJqi-Sj2hNOjfsRZzFu2wWA\"\n",
    "}\n",
    "# Perform login\n",
    "result = session_requests.post(LOGIN_URL, data = payload, headers = dict(referer = LOGIN_URL))\n",
    "\n",
    "result = session_requests.get(URL, headers = dict(referer = URL))\n",
    "tree = html.fromstring(result.content)\n",
    "bucket_names = tree.xpath(\"lectureInfoBoxText\")\n",
    "soup = BeautifulSoup(result.content, 'html.parser')\n",
    "print(bucket_names)\n",
    "print(soup)\n",
    "\n"
   ]
  },
  {
   "cell_type": "code",
   "execution_count": null,
   "metadata": {},
   "outputs": [],
   "source": [
    "result.ok"
   ]
  },
  {
   "cell_type": "code",
   "execution_count": null,
   "metadata": {},
   "outputs": [],
   "source": [
    "from bs4 import BeautifulSoup\n",
    "import requests\n",
    "from lxml import html\n",
    "import codecs\n",
    "import pandas as pd"
   ]
  },
  {
   "cell_type": "code",
   "execution_count": null,
   "metadata": {},
   "outputs": [],
   "source": [
    "\n",
    "with codecs.open('sample.html', 'r', encoding='utf-8', errors='ignore') as fdata:\n",
    "    soup=BeautifulSoup(fdata,'lxml')\n"
   ]
  },
  {
   "cell_type": "code",
   "execution_count": null,
   "metadata": {},
   "outputs": [],
   "source": [
    "body=soup.find('body')        #taking out body out of whole code\n",
    "#x=body.find('li',class_='project-card')          \n",
    "#y=x.find('div',class_='project-card__right-header-content')"
   ]
  },
  {
   "cell_type": "code",
   "execution_count": null,
   "metadata": {},
   "outputs": [],
   "source": [
    "print(body.find_all('div',class_=\"loaderInverseWrapper\"))"
   ]
  },
  {
   "cell_type": "code",
   "execution_count": null,
   "metadata": {},
   "outputs": [],
   "source": [
    "weekNo =soup.find_all('div',class_=\"weekItem\")\n",
    "weekDetails = soup.find_all('div',class_=\"weekDetailsBox\")"
   ]
  },
  {
   "cell_type": "code",
   "execution_count": 19,
   "metadata": {},
   "outputs": [
    {
     "output_type": "stream",
     "name": "stdout",
     "text": [
      "4\n"
     ]
    }
   ],
   "source": [
    "i = 0\n",
    "for week in weekDetails:\n",
    "    i=i+1\n",
    "print(i)"
   ]
  },
  {
   "cell_type": "code",
   "execution_count": null,
   "metadata": {},
   "outputs": [],
   "source": [
    "len=0\n",
    "name_list=[]\n",
    "project_list=[]\n",
    "organisation_list=[]\n",
    "\n",
    "for blocks in body.find_all('li',class_='project-card'):\n",
    "    y=blocks.find('div',class_='project-card__right-header-content')\n",
    "\n",
    "    names=y.h2.text\n",
    "    name_list.append(names)\n",
    "\n",
    "    z=y.find_all('a',class_='md-soc-theme')\n",
    "    \n",
    "    project_list.append(z[0].text)\n",
    "    organisation_list.append(z[1].text)\n",
    "    \n",
    "    len+=1\n",
    "print(len)"
   ]
  },
  {
   "cell_type": "code",
   "execution_count": null,
   "metadata": {},
   "outputs": [],
   "source": []
  },
  {
   "cell_type": "code",
   "execution_count": null,
   "metadata": {},
   "outputs": [],
   "source": []
  },
  {
   "cell_type": "code",
   "execution_count": null,
   "metadata": {},
   "outputs": [],
   "source": [
    "print(body.find('div',class_=\"weekDetailsBox\"))"
   ]
  },
  {
   "cell_type": "code",
   "execution_count": null,
   "metadata": {},
   "outputs": [],
   "source": []
  }
 ]
}