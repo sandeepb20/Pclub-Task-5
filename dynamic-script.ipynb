{
 "cells": [
  {
   "cell_type": "markdown",
   "source": [
    "## First import the Libraries to be used while scraping\n"
   ],
   "metadata": {}
  },
  {
   "cell_type": "code",
   "execution_count": 23,
   "source": [
    "from bs4 import BeautifulSoup\n",
    "import requests\n",
    "from lxml import html\n",
    "import codecs\n",
    "import pandas as pd"
   ],
   "outputs": [],
   "metadata": {}
  },
  {
   "cell_type": "markdown",
   "source": [
    "## Enter your **user name** and **password** below to login to mookit\n",
    "## Change the **URL** according to the page you wanna scrap"
   ],
   "metadata": {}
  },
  {
   "cell_type": "code",
   "execution_count": 24,
   "source": [
    "USERNAME = \"<USERNAME>\"\n",
    "PASSWORD = \"<PASSWORD>\"\n",
    "FORM_build_id = \"<iNSERT HERE>\"\n",
    "LOGIN_URL = 'https://hello.iitk.ac.in/index.php/user/login'\n",
    "URL = 'https://hello.iitk.ac.in/index.php/user/27571'"
   ],
   "outputs": [],
   "metadata": {}
  },
  {
   "cell_type": "markdown",
   "source": [
    "## The below code will login to mookit using id and password and provide you the soup of the URL mentioned above. \n"
   ],
   "metadata": {}
  },
  {
   "cell_type": "code",
   "execution_count": 25,
   "source": [
    "import requests\n",
    "session_requests= requests.session()\n",
    "cookies = {\n",
    "    'role': 'Student',\n",
    "    'username': 'sandeepb20',\n",
    "    '_ga': 'GA1.3.1721980068.1629255202',\n",
    "    '_gid': 'GA1.3.348016672.1629255202',\n",
    "    '_gat': '1',\n",
    "}\n",
    "\n",
    "headers = {\n",
    "    'User-Agent': 'Mozilla/5.0 (Windows NT 10.0; Win64; x64; rv:91.0) Gecko/20100101 Firefox/91.0',\n",
    "    'Accept': 'text/html,application/xhtml+xml,application/xml;q=0.9,image/webp,*/*;q=0.8',\n",
    "    'Accept-Language': 'en-GB,en;q=0.5',\n",
    "    'Content-Type': 'application/x-www-form-urlencoded',\n",
    "    'Origin': 'https://hello.iitk.ac.in',\n",
    "    'Connection': 'keep-alive',\n",
    "    'Referer': 'https://hello.iitk.ac.in/index.php/user/login',\n",
    "    'Upgrade-Insecure-Requests': '1',\n",
    "    'Sec-Fetch-Dest': 'document',\n",
    "    'Sec-Fetch-Mode': 'navigate',\n",
    "    'Sec-Fetch-Site': 'same-origin',\n",
    "    'Sec-Fetch-User': '?1',\n",
    "}\n",
    "\n",
    "data = {\n",
    "  'name': USERNAME,\n",
    "  'pass': PASSWORD,\n",
    "  'form_build_id': FORM_build_id,\n",
    "  'form_id': 'user_login_form',\n",
    "  'op': 'SIGN IN'\n",
    "}\n",
    "\n",
    "response = session_requests.post(LOGIN_URL, headers=headers, data=data)\n",
    "\n",
    "response = requests.get(URL, headers=headers, cookies=cookies)\n",
    "soup = BeautifulSoup(response.content, 'html.parser')\n",
    "#print(soup)"
   ],
   "outputs": [],
   "metadata": {}
  },
  {
   "cell_type": "markdown",
   "source": [
    "## We will store The Content in a HTML file (output.html) and scrap it according to [mookit.ipynb](mookit.ipynb)"
   ],
   "metadata": {}
  },
  {
   "cell_type": "code",
   "execution_count": 26,
   "source": [
    "with open(\"output.html\", \"w\", encoding = 'utf-8') as file:\n",
    " \n",
    "    file.write(str(soup.prettify())) # prettify the soup object and convert it into a string "
   ],
   "outputs": [],
   "metadata": {}
  },
  {
   "cell_type": "markdown",
   "source": [
    "# We can access a remote page using cookies without username and login (i.e. We are already logged in)"
   ],
   "metadata": {}
  },
  {
   "cell_type": "code",
   "execution_count": 27,
   "source": [
    "cookies = {\n",
    "    'role': 'Student',\n",
    "    'username': 'sandeepb20',\n",
    "    '_ga': 'GA1.3.1721980068.1629255202',\n",
    "    '_gid': 'GA1.3.348016672.1629255202',\n",
    "    'SSESS0eb1fcc85b8e9f239577c36111e88baf': 'U7nAZnIe-3AL7ncGqyc-HpeFSFJXuhJz9MnliOtpj-w',\n",
    "    'token': '11124570e9d3243864fc0caea028ac17e700f7f3',\n",
    "    'uid': '27571',\n",
    "    '_gat': '1',\n",
    "}\n",
    "\n",
    "headers = {\n",
    "    'User-Agent': 'Mozilla/5.0 (Windows NT 10.0; Win64; x64; rv:91.0) Gecko/20100101 Firefox/91.0',\n",
    "    'Accept': 'text/html,application/xhtml+xml,application/xml;q=0.9,image/webp,*/*;q=0.8',\n",
    "    'Accept-Language': 'en-GB,en;q=0.5',\n",
    "    'Content-Type': 'application/x-www-form-urlencoded',\n",
    "    'Origin': 'https://hello.iitk.ac.in',\n",
    "    'Connection': 'keep-alive',\n",
    "    'Referer': 'https://hello.iitk.ac.in/index.php/course/esc201a21',\n",
    "    'Upgrade-Insecure-Requests': '1',\n",
    "    'Sec-Fetch-Dest': 'document',\n",
    "    'Sec-Fetch-Mode': 'navigate',\n",
    "    'Sec-Fetch-Site': 'same-origin',\n",
    "    'Sec-Fetch-User': '?1',\n",
    "}\n",
    "\n",
    "data = {\n",
    "  'op': 'Access Course',\n",
    "  'form_build_id': FORM_build_id,\n",
    "  'form_token': 'BGE-Bw-94MY6IFopj1jun5tHFIN6zukRQI_AFXehRXA',\n",
    "  'form_id': 'enroll_form',\n",
    "  'url': ''\n",
    "}\n",
    "\n",
    "response = requests.post('https://hello.iitk.ac.in/index.php/course/esc201a21', headers=headers, cookies=cookies, data=data)\n",
    "response = requests.get('https://hello.iitk.ac.in/esc201a21/', headers=headers, cookies=cookies)\n",
    "soup = BeautifulSoup(response.content, 'html.parser')\n",
    "\n",
    "body=soup.find('body')\n",
    "#print(body) "
   ],
   "outputs": [],
   "metadata": {}
  },
  {
   "cell_type": "code",
   "execution_count": null,
   "source": [],
   "outputs": [],
   "metadata": {}
  }
 ],
 "metadata": {
  "orig_nbformat": 4,
  "language_info": {
   "name": "python",
   "version": "3.8.10",
   "mimetype": "text/x-python",
   "codemirror_mode": {
    "name": "ipython",
    "version": 3
   },
   "pygments_lexer": "ipython3",
   "nbconvert_exporter": "python",
   "file_extension": ".py"
  },
  "kernelspec": {
   "name": "python3",
   "display_name": "Python 3.8.10 64-bit"
  },
  "interpreter": {
   "hash": "916dbcbb3f70747c44a77c7bcd40155683ae19c65e1c03b4aa3499c5328201f1"
  }
 },
 "nbformat": 4,
 "nbformat_minor": 2
}