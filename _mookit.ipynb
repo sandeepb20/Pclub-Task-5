{
 "cells": [
  {
   "cell_type": "code",
   "execution_count": 6,
   "source": [
    "from bs4 import BeautifulSoup\n",
    "import requests\n",
    "from lxml import html\n",
    "import codecs\n",
    "import pandas as pd"
   ],
   "outputs": [],
   "metadata": {}
  },
  {
   "cell_type": "code",
   "execution_count": 7,
   "source": [
    "with codecs.open('sample.html', 'r', encoding='utf-8', errors='ignore') as fdata:\n",
    "    soup=BeautifulSoup(fdata,'lxml')\n",
    "    body=soup.find('body')"
   ],
   "outputs": [],
   "metadata": {}
  },
  {
   "cell_type": "code",
   "execution_count": 15,
   "source": [
    "URL = 'https://hello.iitk.ac.in/esc201a21/'\n",
    "week_list=[]\n",
    "chapter_list=[]\n",
    "link_list=[]\n",
    "len = 0\n",
    "n = int(input(\"Enter No of lectures to be scraped: \"))"
   ],
   "outputs": [],
   "metadata": {}
  },
  {
   "cell_type": "code",
   "execution_count": 16,
   "source": [
    "if __name__ == '__main__':\n",
    "    weekNo =soup.find_all('div',class_=\"weekItem\")\n",
    "    weekDetails = soup.find_all('div',class_=\"weekDetailsBox\")\n",
    "    i = 0\n",
    "    for week in weekNo:\n",
    "        i=i+1\n",
    "    print(\"Total no of weeks = \",i)\n",
    "    for k in range(i):\n",
    "        wn = weekNo[k].text\n",
    "        wd = weekDetails[k]\n",
    "        j = 0\n",
    "        link = wd.find_all('a',href=True)\n",
    "\n",
    "        #print(link[4]['href'])\n",
    "        for topic in wd.find_all('div',class_=\"lectureInfoBoxText\"):\n",
    "            if(n<=len):\n",
    "                break\n",
    "            chapter_list.append(topic.text)#print(topic.text)\n",
    "            week_list.append(wn)#print(wn)\n",
    "            l = link[j]['href']\n",
    "            \n",
    "            while(l[0]=='h'):\n",
    "                j+=1\n",
    "                l = link[j]['href']\n",
    "            link_list.append(URL+l)#print(l)\n",
    "            j+=1\n",
    "            len+=1\n",
    "\n",
    "print()\n"
   ],
   "outputs": [
    {
     "output_type": "stream",
     "name": "stdout",
     "text": [
      "Total no of weeks =  15\n",
      "\n",
      "['https://hello.iitk.ac.in/esc201a21/#/lecture/19']\n"
     ]
    }
   ],
   "metadata": {}
  },
  {
   "cell_type": "code",
   "execution_count": 13,
   "source": [
    "if(n <= len and n >= 0):\n",
    "    for i in range(n):\n",
    "        print(\"WEEK = \",week_list[i],\"LECTURE = \",chapter_list[i],\"LINK= \",link_list[i])\n",
    "else:\n",
    "    n = int(input(\"No of lectures invalid, Please try again\"))"
   ],
   "outputs": [],
   "metadata": {}
  },
  {
   "cell_type": "code",
   "execution_count": 14,
   "source": [
    "def storeDataInCSV():\n",
    "    data = {'WEEK': week_list, 'LECTURE': chapter_list, 'LINK': link_list}\n",
    "    df = pd.DataFrame(data)  \n",
    "    # saving the dataframe \n",
    "    df.to_csv('mth102.csv')\n",
    "storeDataInCSV()"
   ],
   "outputs": [],
   "metadata": {}
  }
 ],
 "metadata": {
  "orig_nbformat": 4,
  "language_info": {
   "name": "python",
   "version": "3.8.10",
   "mimetype": "text/x-python",
   "codemirror_mode": {
    "name": "ipython",
    "version": 3
   },
   "pygments_lexer": "ipython3",
   "nbconvert_exporter": "python",
   "file_extension": ".py"
  },
  "kernelspec": {
   "name": "python3",
   "display_name": "Python 3.8.10 64-bit"
  },
  "interpreter": {
   "hash": "31f2aee4e71d21fbe5cf8b01ff0e069b9275f58929596ceb00d14d90e3e16cd6"
  }
 },
 "nbformat": 4,
 "nbformat_minor": 2
}